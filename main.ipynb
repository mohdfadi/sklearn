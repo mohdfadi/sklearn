{
 "cells": [
  {
   "cell_type": "code",
   "execution_count": null,
   "id": "774c47b5",
   "metadata": {},
   "outputs": [],
   "source": [
    "class Sentiment:\n",
    "    POSITIVE = 'POSITIVE'\n",
    "    NEGATIVE = 'NEGATIVE'\n",
    "    NEUTRAL = 'NEUTRAL'\n",
    "\n",
    "\n",
    "\n",
    "class Review:\n",
    "    def __init__(self,text,rating):\n",
    "        self.text=text\n",
    "        self.rating=rating\n",
    "        self.sentiment=self.get_sentiment()\n",
    "\n",
    "\n",
    "    def get_sentiment(self):\n",
    "        if self.rating <=2:\n",
    "            return Sentiment.NEGATIVE\n",
    "        elif self.rating == 3:\n",
    "            return Sentiment.NEUTRAL\n",
    "        else:\n",
    "            return Sentiment.POSITIVE"
   ]
  },
  {
   "cell_type": "code",
   "execution_count": 89,
   "id": "c71d979c",
   "metadata": {},
   "outputs": [
    {
     "data": {
      "text/plain": [
       "'positive'"
      ]
     },
     "execution_count": 89,
     "metadata": {},
     "output_type": "execute_result"
    }
   ],
   "source": [
    "import json\n",
    "file_name = 'Books_small.json'\n",
    "\n",
    "# Update the get_sentiment method in the Review class\n",
    "\n",
    "reviews=[]\n",
    "with open(file_name) as f:\n",
    "    for line in f:\n",
    "       review = json.loads(line)\n",
    "       reviews.append(Review(review['reviewText'], review['overall']))\n",
    "    \n",
    "reviews[10].sentiment\n"
   ]
  },
  {
   "cell_type": "markdown",
   "id": "d3d3be6a",
   "metadata": {},
   "source": [
    "prep Data"
   ]
  },
  {
   "cell_type": "code",
   "execution_count": 96,
   "id": "2604c5cb",
   "metadata": {},
   "outputs": [],
   "source": [
    "from sklearn.model_selection import train_test_split\n",
    "training,test = train_test_split(reviews,test_size=0.33,random_state=42)  # 33% of the reviews will be for testing\n",
    "\n"
   ]
  },
  {
   "cell_type": "code",
   "execution_count": 105,
   "id": "008e49f8",
   "metadata": {},
   "outputs": [
    {
     "data": {
      "text/plain": [
       "'negative'"
      ]
     },
     "execution_count": 105,
     "metadata": {},
     "output_type": "execute_result"
    }
   ],
   "source": [
    "# Extracting the text of each review from the training dataset\n",
    "train_x = [x.text for x in training]\n",
    "\n",
    "# Extracting the sentiment of each review from the training dataset\n",
    "train_y = [x.sentiment for x in training]\n",
    "\n",
    "train_x[7]\n",
    "train_y[7]\n",
    "\n"
   ]
  }
 ],
 "metadata": {
  "kernelspec": {
   "display_name": "Python 3",
   "language": "python",
   "name": "python3"
  },
  "language_info": {
   "codemirror_mode": {
    "name": "ipython",
    "version": 3
   },
   "file_extension": ".py",
   "mimetype": "text/x-python",
   "name": "python",
   "nbconvert_exporter": "python",
   "pygments_lexer": "ipython3",
   "version": "3.13.2"
  }
 },
 "nbformat": 4,
 "nbformat_minor": 5
}
