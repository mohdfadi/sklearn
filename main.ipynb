{
 "cells": [
  {
   "cell_type": "code",
   "execution_count": 22,
   "id": "774c47b5",
   "metadata": {},
   "outputs": [],
   "source": [
    "class Sentiment:\n",
    "    POSITIVE = 'POSITIVE'\n",
    "    NEGATIVE = 'NEGATIVE'\n",
    "    NEUTRAL = 'NEUTRAL'\n",
    "\n",
    "\n",
    "\n",
    "class Review:\n",
    "    def __init__(self,text,rating):\n",
    "        self.text=text\n",
    "        self.rating=rating\n",
    "        self.sentiment=self.get_sentiment()\n",
    "\n",
    "\n",
    "    def get_sentiment(self):\n",
    "        if self.rating <=2:\n",
    "            return Sentiment.NEGATIVE\n",
    "        elif self.rating == 3:\n",
    "            return Sentiment.NEUTRAL\n",
    "        else:\n",
    "            return Sentiment.POSITIVE"
   ]
  },
  {
   "cell_type": "code",
   "execution_count": null,
   "id": "c71d979c",
   "metadata": {},
   "outputs": [
    {
     "data": {
      "text/plain": [
       "'POSITIVE'"
      ]
     },
     "execution_count": 23,
     "metadata": {},
     "output_type": "execute_result"
    }
   ],
   "source": [
    "import json\n",
    "file_name = 'Books_small_10000.json'\n",
    "\n",
    "# Update the get_sentiment method in the Review class\n",
    "\n",
    "reviews=[]\n",
    "with open(file_name) as f:\n",
    "    for line in f:\n",
    "       review = json.loads(line)\n",
    "       reviews.append(Review(review['reviewText'], review['overall']))\n",
    "    \n",
    "reviews[10].sentiment\n"
   ]
  },
  {
   "cell_type": "markdown",
   "id": "d3d3be6a",
   "metadata": {},
   "source": [
    "prep Data"
   ]
  },
  {
   "cell_type": "code",
   "execution_count": 24,
   "id": "2604c5cb",
   "metadata": {},
   "outputs": [],
   "source": [
    "from sklearn.model_selection import train_test_split\n",
    "training,test = train_test_split(reviews,test_size=0.33,random_state=42)  # 33% of the reviews will be for testing\n",
    "\n"
   ]
  },
  {
   "cell_type": "code",
   "execution_count": 34,
   "id": "008e49f8",
   "metadata": {},
   "outputs": [
    {
     "data": {
      "text/plain": [
       "'NEGATIVE'"
      ]
     },
     "execution_count": 34,
     "metadata": {},
     "output_type": "execute_result"
    }
   ],
   "source": [
    "# Extracting the text and rating  of each review from the training dataset\n",
    "train_x = [x.text for x in training]\n",
    "\n",
    "train_y = [x.sentiment for x in training]\n",
    "\n",
    "\n",
    "test_x = [x.text for x in test]\n",
    "test_y = [x.text for x in test]\n",
    "\n",
    "train_x[7]\n",
    "train_y[7]\n",
    "\n"
   ]
  },
  {
   "cell_type": "markdown",
   "id": "e7e4c037",
   "metadata": {},
   "source": [
    "bag of factroziation"
   ]
  },
  {
   "cell_type": "code",
   "execution_count": 35,
   "id": "2f01981f",
   "metadata": {},
   "outputs": [
    {
     "name": "stdout",
     "output_type": "stream",
     "text": [
      "[[0 0 0 ... 0 0 0]]\n"
     ]
    }
   ],
   "source": [
    "from sklearn.feature_extraction.text import CountVectorizer\n",
    "\n",
    "# Extracting the text of each review from the test dataset\n",
    "\n",
    "\n",
    "vectorizer = CountVectorizer()\n",
    "train_x_vectors = vectorizer.fit_transform(train_x)\n",
    "test_x_vectors = vectorizer.transform(test_x)\n",
    "print(train_x_vectors[0].toarray())"
   ]
  },
  {
   "cell_type": "markdown",
   "id": "cd199c6c",
   "metadata": {},
   "source": [
    "Classifiaction"
   ]
  },
  {
   "cell_type": "code",
   "execution_count": 37,
   "id": "0b599fdc",
   "metadata": {},
   "outputs": [
    {
     "name": "stdout",
     "output_type": "stream",
     "text": [
      "POSITIVE\n"
     ]
    }
   ],
   "source": [
    "#linear svm\n",
    "\n",
    "from sklearn import svm\n",
    "\n",
    "clf_svm = svm.SVC(kernel='linear')\n",
    "clf_svm.fit(train_x_vectors, train_y)\n",
    "\n",
    "# Predicting the sentiment of the first test review\n",
    "prediction = clf_svm.predict(test_x_vectors[0])\n",
    "\n",
    "# Displaying the sentiment as POSITIVE, NEGATIVE, or NEUTRAL\n",
    "print(prediction[0])  # This should display the sentiment label (e.g., POSITIVE, NEGATIVE, NEUTRAL)\n"
   ]
  },
  {
   "cell_type": "markdown",
   "id": "31cca91f",
   "metadata": {},
   "source": [
    "decision tree"
   ]
  },
  {
   "cell_type": "code",
   "execution_count": 40,
   "id": "49cf9b4f",
   "metadata": {},
   "outputs": [
    {
     "data": {
      "text/plain": [
       "array(['POSITIVE'], dtype='<U8')"
      ]
     },
     "execution_count": 40,
     "metadata": {},
     "output_type": "execute_result"
    }
   ],
   "source": [
    "from sklearn.tree import DecisionTreeClassifier\n",
    "clf_dec = DecisionTreeClassifier()\n",
    "clf_dec.fit(train_x_vectors, train_y)\n",
    "clf_dec.predict(test_x_vectors[0])"
   ]
  },
  {
   "cell_type": "markdown",
   "id": "b4065f4a",
   "metadata": {},
   "source": [
    "naive bayes"
   ]
  },
  {
   "cell_type": "code",
   "execution_count": 57,
   "id": "eae5a6bf",
   "metadata": {},
   "outputs": [
    {
     "data": {
      "text/plain": [
       "array(['NEUTRAL'], dtype='<U8')"
      ]
     },
     "execution_count": 57,
     "metadata": {},
     "output_type": "execute_result"
    }
   ],
   "source": [
    "from sklearn.naive_bayes import GaussianNB\n",
    "clf_gnb =GaussianNB()\n",
    "clf_gnb.fit(train_x_vectors.toarray(), train_y)\n",
    "clf_gnb.predict(test_x_vectors[3].toarray())"
   ]
  },
  {
   "cell_type": "markdown",
   "id": "efc36fec",
   "metadata": {},
   "source": [
    "logistic regression"
   ]
  },
  {
   "cell_type": "code",
   "execution_count": 47,
   "id": "0f6085a3",
   "metadata": {},
   "outputs": [
    {
     "data": {
      "text/plain": [
       "array(['POSITIVE'], dtype='<U8')"
      ]
     },
     "execution_count": 47,
     "metadata": {},
     "output_type": "execute_result"
    }
   ],
   "source": [
    "from sklearn.linear_model import LogisticRegression\n",
    "clf_log=LogisticRegression()\n",
    "clf_log.fit(train_x_vectors.toarray(), train_y)\n",
    "clf_log.predict(test_x_vectors[0].toarray())"
   ]
  },
  {
   "cell_type": "markdown",
   "id": "36ebb10b",
   "metadata": {},
   "source": [
    "evalution"
   ]
  },
  {
   "cell_type": "code",
   "execution_count": null,
   "id": "3cca0a42",
   "metadata": {},
   "outputs": [],
   "source": []
  },
  {
   "cell_type": "code",
   "execution_count": null,
   "id": "e3160ff6",
   "metadata": {},
   "outputs": [
    {
     "name": "stdout",
     "output_type": "stream",
     "text": [
      "SVM Accuracy: 0.8242424242424242\n",
      "Decision Tree Accuracy: 0.7393939393939394\n"
     ]
    }
   ],
   "source": [
    "# Ensure test_y contains the sentiments of the test reviews\n",
    "test_y = [x.sentiment for x in test]\n",
    "#mean accuracy\n",
    "# Calculate and display the accuracy scores for SVM and Decision Tree classifiers\n",
    "svm_score = clf_svm.score(test_x_vectors, test_y)\n",
    "dec_score = clf_dec.score(test_x_vectors, test_y)\n",
    "\n",
    "print(f\"SVM Accuracy: {svm_score}\")\n",
    "print(f\"Decision Tree Accuracy: {dec_score}\")\n"
   ]
  },
  {
   "cell_type": "markdown",
   "id": "b36b0b82",
   "metadata": {},
   "source": [
    "improving the model"
   ]
  },
  {
   "cell_type": "code",
   "execution_count": 60,
   "id": "bde50ed9",
   "metadata": {},
   "outputs": [
    {
     "data": {
      "text/plain": [
       "47"
      ]
     },
     "execution_count": 60,
     "metadata": {},
     "output_type": "execute_result"
    }
   ],
   "source": [
    "train_y.count(Sentiment.NEGATIVE)"
   ]
  }
 ],
 "metadata": {
  "kernelspec": {
   "display_name": "Python 3",
   "language": "python",
   "name": "python3"
  },
  "language_info": {
   "codemirror_mode": {
    "name": "ipython",
    "version": 3
   },
   "file_extension": ".py",
   "mimetype": "text/x-python",
   "name": "python",
   "nbconvert_exporter": "python",
   "pygments_lexer": "ipython3",
   "version": "3.13.2"
  }
 },
 "nbformat": 4,
 "nbformat_minor": 5
}
